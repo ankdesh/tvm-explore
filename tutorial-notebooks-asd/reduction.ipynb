{
 "cells": [
  {
   "cell_type": "code",
   "execution_count": 1,
   "metadata": {},
   "outputs": [],
   "source": [
    "%matplotlib inline"
   ]
  },
  {
   "cell_type": "markdown",
   "metadata": {},
   "source": [
    "\n",
    "Reduction\n",
    "=========\n",
    "**Author**: `Tianqi Chen <https://tqchen.github.io>`_\n",
    "\n",
    "This is an introduction material on how to do reduction in TVM.\n",
    "Associative reduction operators like sum/max/min are typical\n",
    "construction blocks of linear algebra operations.\n",
    "\n",
    "In this tutorial, we will demonstrate how to do reduction in TVM.\n",
    "\n"
   ]
  },
  {
   "cell_type": "code",
   "execution_count": 2,
   "metadata": {},
   "outputs": [],
   "source": [
    "from __future__ import absolute_import, print_function\n",
    "\n",
    "import tvm\n",
    "import numpy as np"
   ]
  },
  {
   "cell_type": "markdown",
   "metadata": {},
   "source": [
    "Describe Sum of Rows\n",
    "--------------------\n",
    "Assume we want to compute sum of rows as our example.\n",
    "In numpy semantics this can be written as :code:`B = numpy.sum(A, axis=1)`\n",
    "\n",
    "The following lines describe the row sum operation.\n",
    "To create a reduction formula, we declare a reduction axis using\n",
    ":any:`tvm.reduce_axis`. :any:`tvm.reduce_axis` takes in the range of reductions.\n",
    ":any:`tvm.sum` takes in the expression to be reduced as well as the reduction\n",
    "axis and compute the sum of value over all k in the declared range.\n",
    "\n",
    "The equivalent C code is as follows:\n",
    "\n",
    ".. code-block:: c\n",
    "\n",
    "  for (int i = 0; i < n; ++i) {\n",
    "    B[i] = 0;\n",
    "    for (int k = 0; k < m; ++k) {\n",
    "      B[i] = B[i] + A[i][k];\n",
    "    }\n",
    "  }\n",
    "\n",
    "\n"
   ]
  },
  {
   "cell_type": "code",
   "execution_count": 3,
   "metadata": {},
   "outputs": [],
   "source": [
    "n = tvm.var(\"n\")\n",
    "m = tvm.var(\"m\")\n",
    "A = tvm.placeholder((n, m), name='A')\n",
    "k = tvm.reduce_axis((0, m), \"k\")\n",
    "B = tvm.compute((n,), lambda i: tvm.sum(A[i, k], axis=k), name=\"B\")"
   ]
  },
  {
   "cell_type": "markdown",
   "metadata": {},
   "source": [
    "Schedule the Reduction\n",
    "----------------------\n",
    "There are several ways to schedule a reduction.\n",
    "Before doing anything, let us print out the IR code of default schedule.\n",
    "\n",
    "\n"
   ]
  },
  {
   "cell_type": "code",
   "execution_count": 4,
   "metadata": {},
   "outputs": [
    {
     "name": "stdout",
     "output_type": "stream",
     "text": [
      "produce B {\n",
      "  for (i, 0, n) {\n",
      "    B[i] = 0.000000f\n",
      "    for (k, 0, m) {\n",
      "      B[i] = (B[i] + A[((i*m) + k)])\n",
      "    }\n",
      "  }\n",
      "}\n",
      "\n"
     ]
    }
   ],
   "source": [
    "s = tvm.create_schedule(B.op)\n",
    "print(tvm.lower(s, [A, B], simple_mode=True))"
   ]
  },
  {
   "cell_type": "markdown",
   "metadata": {},
   "source": [
    "You can find that the IR code is quite like the C code.\n",
    "The reduction axis is similar to a normal axis, it can be splitted.\n",
    "\n",
    "In the following code we split both the row axis of B as well\n",
    "axis by different factors. The result is a nested reduction.\n",
    "\n",
    "\n"
   ]
  },
  {
   "cell_type": "code",
   "execution_count": 5,
   "metadata": {},
   "outputs": [
    {
     "name": "stdout",
     "output_type": "stream",
     "text": [
      "produce B {\n",
      "  for (i.outer, 0, ((n + 31)/32)) {\n",
      "    for (i.inner, 0, 32) {\n",
      "      if (likely(((i.outer*32) < (n - i.inner)))) {\n",
      "        B[((i.outer*32) + i.inner)] = 0.000000f\n",
      "      }\n",
      "      for (k.outer, 0, ((m + 15)/16)) {\n",
      "        for (k.inner, 0, 16) {\n",
      "          if (likely(((i.outer*32) < (n - i.inner)))) {\n",
      "            if (likely(((k.outer*16) < (m - k.inner)))) {\n",
      "              B[((i.outer*32) + i.inner)] = (B[((i.outer*32) + i.inner)] + A[(((((i.outer*32) + i.inner)*m) + (k.outer*16)) + k.inner)])\n",
      "            }\n",
      "          }\n",
      "        }\n",
      "      }\n",
      "    }\n",
      "  }\n",
      "}\n",
      "\n"
     ]
    }
   ],
   "source": [
    "ko, ki = s[B].split(B.op.reduce_axis[0], factor=16)\n",
    "xo, xi = s[B].split(B.op.axis[0], factor=32)\n",
    "print(tvm.lower(s, [A, B], simple_mode=True))"
   ]
  },
  {
   "cell_type": "markdown",
   "metadata": {},
   "source": [
    "If we are building a GPU kernel, we can bind the rows of B to GPU threads.\n",
    "\n"
   ]
  },
  {
   "cell_type": "code",
   "execution_count": 6,
   "metadata": {},
   "outputs": [
    {
     "name": "stdout",
     "output_type": "stream",
     "text": [
      "produce B {\n",
      "  // attr [iter_var(blockIdx.x, , blockIdx.x)] thread_extent = ((n + 31)/32)\n",
      "  // attr [iter_var(threadIdx.x, , threadIdx.x)] thread_extent = 32\n",
      "  if (likely(((blockIdx.x*32) < (n - threadIdx.x)))) {\n",
      "    B[((blockIdx.x*32) + threadIdx.x)] = 0.000000f\n",
      "  }\n",
      "  for (k.outer, 0, ((m + 15)/16)) {\n",
      "    for (k.inner, 0, 16) {\n",
      "      if (likely(((blockIdx.x*32) < (n - threadIdx.x)))) {\n",
      "        if (likely(((k.outer*16) < (m - k.inner)))) {\n",
      "          B[((blockIdx.x*32) + threadIdx.x)] = (B[((blockIdx.x*32) + threadIdx.x)] + A[(((((blockIdx.x*32) + threadIdx.x)*m) + (k.outer*16)) + k.inner)])\n",
      "        }\n",
      "      }\n",
      "    }\n",
      "  }\n",
      "}\n",
      "\n"
     ]
    }
   ],
   "source": [
    "s[B].bind(xo, tvm.thread_axis(\"blockIdx.x\"))\n",
    "s[B].bind(xi, tvm.thread_axis(\"threadIdx.x\"))\n",
    "print(tvm.lower(s, [A, B], simple_mode=True))"
   ]
  },
  {
   "cell_type": "markdown",
   "metadata": {},
   "source": [
    "Reduction Factoring and Parallelization\n",
    "---------------------------------------\n",
    "One problem of building a reduction is that we cannot simply\n",
    "parallelize over the reduction axis. We need to divide the computation\n",
    "of the reduction, store the local reduction result in a temporal array\n",
    "before doing a reduction over the temp array.\n",
    "\n",
    "The rfactor primitive does such rewrite of the computation.\n",
    "In the following schedule, the result of B is written to a temporary\n",
    "result B.rf. The factored dimension becomes the first dimension of B.rf.\n",
    "\n",
    "\n"
   ]
  },
  {
   "cell_type": "code",
   "execution_count": 7,
   "metadata": {},
   "outputs": [
    {
     "name": "stdout",
     "output_type": "stream",
     "text": [
      "// attr [B.rf] storage_scope = \"global\"\n",
      "allocate B.rf[float32 * 16 * n]\n",
      "produce B.rf {\n",
      "  for (k.inner, 0, 16) {\n",
      "    for (i, 0, n) {\n",
      "      B.rf[((k.inner*n) + i)] = 0.000000f\n",
      "      for (k.outer, 0, ((m + 15)/16)) {\n",
      "        if ((k.inner < (m - (k.outer*16)))) {\n",
      "          B.rf[((k.inner*n) + i)] = (B.rf[((k.inner*n) + i)] + A[((k.inner + (i*m)) + (k.outer*16))])\n",
      "        }\n",
      "      }\n",
      "    }\n",
      "  }\n",
      "}\n",
      "produce B {\n",
      "  for (ax0, 0, n) {\n",
      "    B[ax0] = 0.000000f\n",
      "    for (k.inner.v, 0, 16) {\n",
      "      B[ax0] = (B[ax0] + B.rf[(ax0 + (k.inner.v*n))])\n",
      "    }\n",
      "  }\n",
      "}\n",
      "\n"
     ]
    }
   ],
   "source": [
    "s = tvm.create_schedule(B.op)\n",
    "ko, ki = s[B].split(B.op.reduce_axis[0], factor=16)\n",
    "BF = s.rfactor(B, ki)\n",
    "print(tvm.lower(s, [A, B], simple_mode=True))"
   ]
  },
  {
   "cell_type": "markdown",
   "metadata": {},
   "source": [
    "The scheduled operator of B also get rewritten to be sum over\n",
    "the first axis of reduced result of B.f\n",
    "\n",
    "\n"
   ]
  },
  {
   "cell_type": "code",
   "execution_count": 8,
   "metadata": {},
   "outputs": [
    {
     "name": "stdout",
     "output_type": "stream",
     "text": [
      "[reduce(combiner=comm_reducer(result=[(x + y)], lhs=[x], rhs=[y], identity_element=[0.000000f]), source=[B.rf(k.inner.v, ax0)], axis=[iter_var(k.inner.v, Range(min=0, extent=16))], where=(uint1)1, value_index=0)]\n"
     ]
    }
   ],
   "source": [
    "print(s[B].op.body)"
   ]
  },
  {
   "cell_type": "markdown",
   "metadata": {},
   "source": [
    "Cross Thread Reduction\n",
    "----------------------\n",
    "We can now parallelize over the factored axis.\n",
    "Here the reduction axis of B is marked to be a thread.\n",
    "TVM allows reduction axis to be marked as thread if it is the only\n",
    "axis in reduction and cross thread reduction is possible in the device.\n",
    "\n",
    "This is indeed the case after the factoring.\n",
    "We can directly compute BF at the reduction axis as well.\n",
    "The final generated kernel will divide the rows by blockIdx.x and threadIdx.y\n",
    "columns by threadIdx.x and finally do a cross thread reduction over threadIdx.x\n",
    "\n",
    "\n"
   ]
  },
  {
   "cell_type": "code",
   "execution_count": 9,
   "metadata": {},
   "outputs": [
    {
     "name": "stdout",
     "output_type": "stream",
     "text": [
      "extern \"C\" __global__ void default_function_kernel0( float* __restrict__ A,  float* __restrict__ B, int m, int n) {\n",
      "   float B_rf[1];\n",
      "  __shared__ float red_buf0[512];\n",
      "  B_rf[0] = 0.000000e+00f;\n",
      "  for (int k_outer = 0; k_outer < ((15 + m) / 16); ++k_outer) {\n",
      "    if ((((int)blockIdx.x) * 32) < (n - ((int)threadIdx.y))) {\n",
      "      if (((int)threadIdx.x) < (m - (k_outer * 16))) {\n",
      "        B_rf[0] = (B_rf[0] + A[(((((((int)blockIdx.x) * 32) + ((int)threadIdx.y)) * m) + ((int)threadIdx.x)) + (k_outer * 16))]);\n",
      "      }\n",
      "    }\n",
      "  }\n",
      "  ((volatile __shared__ float*)red_buf0)[((((int)threadIdx.y) * 16) + ((int)threadIdx.x))] = (((((int)blockIdx.x) * 32) < (n - ((int)threadIdx.y))) ? B_rf[0] : 0.000000e+00f);\n",
      "  __syncthreads();\n",
      "  if (((int)threadIdx.x) < 8) {\n",
      "    ((volatile __shared__ float*)red_buf0)[((((int)threadIdx.y) * 16) + ((int)threadIdx.x))] = (((volatile __shared__ float*)red_buf0)[((((int)threadIdx.y) * 16) + ((int)threadIdx.x))] + ((volatile __shared__ float*)red_buf0)[((8 + (((int)threadIdx.y) * 16)) + ((int)threadIdx.x))]);\n",
      "    ((volatile __shared__ float*)red_buf0)[((((int)threadIdx.y) * 16) + ((int)threadIdx.x))] = (((volatile __shared__ float*)red_buf0)[((((int)threadIdx.y) * 16) + ((int)threadIdx.x))] + ((volatile __shared__ float*)red_buf0)[((4 + (((int)threadIdx.y) * 16)) + ((int)threadIdx.x))]);\n",
      "    ((volatile __shared__ float*)red_buf0)[((((int)threadIdx.y) * 16) + ((int)threadIdx.x))] = (((volatile __shared__ float*)red_buf0)[((((int)threadIdx.y) * 16) + ((int)threadIdx.x))] + ((volatile __shared__ float*)red_buf0)[((2 + (((int)threadIdx.y) * 16)) + ((int)threadIdx.x))]);\n",
      "    ((volatile __shared__ float*)red_buf0)[((((int)threadIdx.y) * 16) + ((int)threadIdx.x))] = (((volatile __shared__ float*)red_buf0)[((((int)threadIdx.y) * 16) + ((int)threadIdx.x))] + ((volatile __shared__ float*)red_buf0)[((1 + (((int)threadIdx.y) * 16)) + ((int)threadIdx.x))]);\n",
      "  }\n",
      "  __syncthreads();\n",
      "  if ((((int)blockIdx.x) * 32) < (n - ((int)threadIdx.y))) {\n",
      "    if (((int)threadIdx.x) == 0) {\n",
      "      B[((((int)blockIdx.x) * 32) + ((int)threadIdx.y))] = ((volatile __shared__ float*)red_buf0)[(((int)threadIdx.y) * 16)];\n",
      "    }\n",
      "  }\n",
      "}\n",
      "\n",
      "\n"
     ]
    }
   ],
   "source": [
    "xo, xi = s[B].split(s[B].op.axis[0], factor=32)\n",
    "s[B].bind(xo, tvm.thread_axis(\"blockIdx.x\"))\n",
    "s[B].bind(xi, tvm.thread_axis(\"threadIdx.y\"))\n",
    "tx = tvm.thread_axis(\"threadIdx.x\")\n",
    "s[B].bind(s[B].op.reduce_axis[0], tx)\n",
    "s[BF].compute_at(s[B], s[B].op.reduce_axis[0])\n",
    "s[B].set_store_predicate(tx.var.equal(0))\n",
    "fcuda = tvm.build(s, [A, B], \"cuda\")\n",
    "print(fcuda.imported_modules[0].get_source())"
   ]
  },
  {
   "cell_type": "markdown",
   "metadata": {},
   "source": [
    "Verify the correctness of result kernel by comparing it to numpy.\n",
    "\n",
    "\n"
   ]
  },
  {
   "cell_type": "code",
   "execution_count": 10,
   "metadata": {},
   "outputs": [],
   "source": [
    "nn = 128\n",
    "ctx  = tvm.gpu(0)\n",
    "a = tvm.nd.array(np.random.uniform(size=(nn, nn)).astype(A.dtype), ctx)\n",
    "b = tvm.nd.array(np.zeros(nn, dtype=B.dtype), ctx)\n",
    "fcuda(a, b)\n",
    "np.testing.assert_allclose(\n",
    "    b.asnumpy(),  np.sum(a.asnumpy(), axis=1), rtol=1e-4)"
   ]
  },
  {
   "cell_type": "markdown",
   "metadata": {},
   "source": [
    "Describe Convolution via 2D Reduction\n",
    "-------------------------------------\n",
    "In TVM, we can describe convolution via 2D reduction in a simple way.\n",
    "Here is an example for 2D convolution with filter size = [3, 3] and strides = [1, 1].\n",
    "\n",
    "\n"
   ]
  },
  {
   "cell_type": "code",
   "execution_count": 11,
   "metadata": {},
   "outputs": [
    {
     "name": "stdout",
     "output_type": "stream",
     "text": [
      "produce Output {\n",
      "  for (i, 0, (n + -2)) {\n",
      "    for (j, 0, (n + -2)) {\n",
      "      Output[((i*(n + -2)) + j)] = 0.000000f\n",
      "      for (di, 0, 3) {\n",
      "        for (dj, 0, 3) {\n",
      "          Output[((i*(n + -2)) + j)] = (Output[((i*(n + -2)) + j)] + (Input[((j + ((i + di)*n)) + dj)]*Filter[((di*3) + dj)]))\n",
      "        }\n",
      "      }\n",
      "    }\n",
      "  }\n",
      "}\n",
      "\n"
     ]
    }
   ],
   "source": [
    "n = tvm.var('n')\n",
    "Input = tvm.placeholder((n, n), name='Input')\n",
    "Filter = tvm.placeholder((3, 3), name='Filter')\n",
    "di = tvm.reduce_axis((0, 3), name='di')\n",
    "dj = tvm.reduce_axis((0, 3), name='dj')\n",
    "Output = tvm.compute(\n",
    "    (n - 2, n - 2),\n",
    "    lambda i, j: tvm.sum(Input[i + di, j + dj] * Filter[di, dj], axis=[di, dj]),\n",
    "    name='Output')\n",
    "s = tvm.create_schedule(Output.op)\n",
    "print(tvm.lower(s, [Input, Filter, Output], simple_mode=True))"
   ]
  },
  {
   "cell_type": "markdown",
   "metadata": {},
   "source": [
    "\n",
    "Define General Commutative Reduction Operation\n",
    "----------------------------------------------\n",
    "Besides the built-in reduction operations like :any:`tvm.sum`,\n",
    ":any:`tvm.min` and :any:`tvm.max`, you can also define your\n",
    "commutative reduction operation by :any:`tvm.comm_reducer`.\n",
    "\n",
    "\n"
   ]
  },
  {
   "cell_type": "code",
   "execution_count": 12,
   "metadata": {},
   "outputs": [],
   "source": [
    "n = tvm.var('n')\n",
    "m = tvm.var('m')\n",
    "product = tvm.comm_reducer(lambda x, y: x*y,\n",
    "    lambda t: tvm.const(1, dtype=t), name=\"product\")\n",
    "A = tvm.placeholder((n, m), name='A')\n",
    "k = tvm.reduce_axis((0, m), name='k')\n",
    "B = tvm.compute((n,), lambda i: product(A[i, k], axis=k), name='B')"
   ]
  },
  {
   "cell_type": "markdown",
   "metadata": {},
   "source": [
    "<div class=\"alert alert-info\"><h4>Note</h4><p>Sometimes we would like to perform reduction that involves multiple\n",
    "  values like :code:`argmax`, which can be done by tuple inputs.\n",
    "  See `reduction-with-tuple-inputs` for more detail.</p></div>\n",
    "\n"
   ]
  },
  {
   "cell_type": "markdown",
   "metadata": {},
   "source": [
    "Summary\n",
    "-------\n",
    "This tutorial provides a walk through of reduction schedule.\n",
    "\n",
    "- Describe reduction with reduce_axis.\n",
    "- Use rfactor to factor out axis if we need parallelism.\n",
    "- Define new reduction operation by :any:`tvm.comm_reducer`\n",
    "\n"
   ]
  },
  {
   "cell_type": "code",
   "execution_count": null,
   "metadata": {},
   "outputs": [],
   "source": []
  }
 ],
 "metadata": {
  "kernelspec": {
   "display_name": "Python 3",
   "language": "python",
   "name": "python3"
  },
  "language_info": {
   "codemirror_mode": {
    "name": "ipython",
    "version": 3
   },
   "file_extension": ".py",
   "mimetype": "text/x-python",
   "name": "python",
   "nbconvert_exporter": "python",
   "pygments_lexer": "ipython3",
   "version": "3.5.2"
  }
 },
 "nbformat": 4,
 "nbformat_minor": 1
}
