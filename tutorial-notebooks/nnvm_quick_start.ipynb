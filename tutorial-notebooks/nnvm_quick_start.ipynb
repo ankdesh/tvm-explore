{
  "cells": [
    {
      "cell_type": "code",
      "execution_count": null,
      "metadata": {
        "collapsed": false
      },
      "outputs": [],
      "source": [
        "%matplotlib inline"
      ]
    },
    {
      "cell_type": "markdown",
      "metadata": {},
      "source": [
        "\n\nQuick Start Tutorial for Compiling Deep Learning Models\n=======================================================\n**Author**: `Yao Wang <https://github.com/kevinthesun>`_\n\nThis example shows how to build a neural network with NNVM python frontend and\ngenerate runtime library for Nvidia GPU with TVM.\nNotice that you need to build TVM with cuda and llvm enabled.\n\n"
      ]
    },
    {
      "cell_type": "markdown",
      "metadata": {},
      "source": [
        "Overview for Supported Hardware Backend of TVM\n----------------------------------------------\nThe image below shows hardware backend currently supported by TVM:\n\n![](https://github.com/dmlc/web-data/raw/master/tvm/tutorial/tvm_support_list.png)\n\n     :align: center\n     :scale: 100%\n\nIn this tutorial, we'll choose cuda and llvm as target backends.\nTo begin with, let's import NNVM and TVM.\n\n"
      ]
    },
    {
      "cell_type": "code",
      "execution_count": null,
      "metadata": {
        "collapsed": false
      },
      "outputs": [],
      "source": [
        "import numpy as np\n\nimport nnvm.compiler\nimport nnvm.testing\nimport tvm\nfrom tvm.contrib import graph_runtime"
      ]
    },
    {
      "cell_type": "markdown",
      "metadata": {},
      "source": [
        "Define Neural Network in NNVM\n-----------------------------\nFirst, let's define a neural network with nnvm python frontend.\nFor simplicity, we'll use pre-defined resnet-18 network in NNVM.\nParameters are initialized with Xavier initializer.\nNNVM also supports other model formats such as MXNet, CoreML, ONNX and \nTensorflow.\n\nIn this tutorial, we assume we will do inference on our device\nand the batch size is set to be 1. Input images are RGB color\nimages of size 224 * 224. We can call the :any:`nnvm.symbol.debug_str`\nto show the network structure.\n\n"
      ]
    },
    {
      "cell_type": "code",
      "execution_count": null,
      "metadata": {
        "collapsed": false
      },
      "outputs": [],
      "source": [
        "batch_size = 1\nnum_class = 1000\nimage_shape = (3, 224, 224)\ndata_shape = (batch_size,) + image_shape\nout_shape = (batch_size, num_class)\n\nnet, params = nnvm.testing.resnet.get_workload(layers=18,\n        batch_size=batch_size, image_shape=image_shape)\nprint(net.debug_str())"
      ]
    },
    {
      "cell_type": "markdown",
      "metadata": {},
      "source": [
        "Compilation\n-----------\nNext step is to compile the model using the NNVM/TVM pipeline.\nUsers can specify the optimization level of the compilation.\nCurrently this value can be 0 to 3. The optimization passes include\noperator fusion, pre-computation, layout transformation and so on.\n\n:any:`nnvm.compiler.build` returns three components: the execution graph in\njson format, the TVM module library of compiled functions specifically\nfor this graph on the target hardware, and the parameter blobs of\nthe model. During the compilation, NNVM does the graph-level\noptimization while TVM does the tensor-level optimization, resulting\nin an optimized runtime module for model serving.\n\nWe'll first compile for Nvidia GPU. Behind the scene, `nnvm.compiler.build`\nfirst does a number of graph-level optimizations, e.g. pruning, fusing, etc.,\nthen registers the operators (i.e. the nodes of the optimized graphs) to\nTVM implementations to generate a `tvm.module`.\nTo generate the module library, TVM will first transfer the High level IR\ninto the lower intrinsic IR of the specified target backend, which is CUDA\nin this example. Then the machine code will be generated as the module library.\n\n"
      ]
    },
    {
      "cell_type": "code",
      "execution_count": null,
      "metadata": {
        "collapsed": false
      },
      "outputs": [],
      "source": [
        "opt_level = 3\ntarget = tvm.target.cuda()\nwith nnvm.compiler.build_config(opt_level=opt_level):\n    graph, lib, params = nnvm.compiler.build(\n        net, target, shape={\"data\": data_shape}, params=params)"
      ]
    },
    {
      "cell_type": "markdown",
      "metadata": {},
      "source": [
        "Run the generate library\n------------------------\nNow we can create graph runtime and run the module on Nvidia GPU.\n\n"
      ]
    },
    {
      "cell_type": "code",
      "execution_count": null,
      "metadata": {
        "collapsed": false
      },
      "outputs": [],
      "source": [
        "# create random input\nctx = tvm.gpu()\ndata = np.random.uniform(-1, 1, size=data_shape).astype(\"float32\")\n# create module\nmodule = graph_runtime.create(graph, lib, ctx)\n# set input and parameters\nmodule.set_input(\"data\", data)\nmodule.set_input(**params)\n# run\nmodule.run()\n# get output\nout = module.get_output(0, tvm.nd.empty(out_shape))\n# convert to numpy\nout.asnumpy()\n\n# Print first 10 elements of output\nprint(out.asnumpy().flatten()[0:10])"
      ]
    },
    {
      "cell_type": "markdown",
      "metadata": {},
      "source": [
        "Save and Load Compiled Module\n-----------------------------\nWe can also save the graph, lib and parameters into files and load them\nback in deploy environment.\n\n"
      ]
    },
    {
      "cell_type": "code",
      "execution_count": null,
      "metadata": {
        "collapsed": false
      },
      "outputs": [],
      "source": [
        "# save the graph, lib and params into separate files\nfrom tvm.contrib import util\n\ntemp = util.tempdir()\npath_lib = temp.relpath(\"deploy_lib.so\")\nlib.export_library(path_lib)\nwith open(temp.relpath(\"deploy_graph.json\"), \"w\") as fo:\n    fo.write(graph.json())\nwith open(temp.relpath(\"deploy_param.params\"), \"wb\") as fo:\n    fo.write(nnvm.compiler.save_param_dict(params))\nprint(temp.listdir())"
      ]
    },
    {
      "cell_type": "code",
      "execution_count": null,
      "metadata": {
        "collapsed": false
      },
      "outputs": [],
      "source": [
        "# load the module back.\nloaded_json = open(temp.relpath(\"deploy_graph.json\")).read()\nloaded_lib = tvm.module.load(path_lib)\nloaded_params = bytearray(open(temp.relpath(\"deploy_param.params\"), \"rb\").read())\ninput_data = tvm.nd.array(np.random.uniform(size=data_shape).astype(\"float32\"))\n\nmodule = graph_runtime.create(loaded_json, loaded_lib, tvm.gpu(0))\nmodule.load_params(loaded_params)\nmodule.run(data=input_data)\n\nout = module.get_output(0, out=tvm.nd.empty(out_shape))"
      ]
    }
  ],
  "metadata": {
    "kernelspec": {
      "display_name": "Python 3",
      "language": "python",
      "name": "python3"
    },
    "language_info": {
      "codemirror_mode": {
        "name": "ipython",
        "version": 3
      },
      "file_extension": ".py",
      "mimetype": "text/x-python",
      "name": "python",
      "nbconvert_exporter": "python",
      "pygments_lexer": "ipython3",
      "version": "3.6.5"
    }
  },
  "nbformat": 4,
  "nbformat_minor": 0
}